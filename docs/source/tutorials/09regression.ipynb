{
 "cells": [
  {
   "cell_type": "markdown",
   "metadata": {},
   "source": [
    "****************************************************************\n",
    "# Neural Networks for Regression\n",
    "****************************************************************"
   ]
  },
  {
   "cell_type": "markdown",
   "metadata": {},
   "source": [
    "In this tutorial we train a neural network for the task of pulse height regression. In previous work equally precise pulse height discrimination as with the optimum filter could be achieved, with improved robustness to noise fluctuations.\n",
    "\n",
    "Same as in the previous notebook, we use an LSTM model, PyTorch and PyTorch Lightning. We will not explain all utility steps again but reference the notebook for classification with neural networks."
   ]
  },
  {
   "cell_type": "code",
   "execution_count": 1,
   "metadata": {
    "ExecuteTime": {
     "end_time": "2021-07-10T16:52:02.974723Z",
     "start_time": "2021-07-10T16:52:00.738324Z"
    }
   },
   "outputs": [],
   "source": [
    "import numpy as np\n",
    "import cait as ai\n",
    "from pytorch_lightning import Trainer\n",
    "from torchvision import transforms\n",
    "import h5py\n",
    "from cait.datasets import RemoveOffset, Normalize, DownSample, ToTensor, CryoDataModule\n",
    "from cait.models import LSTMModule, nn_predict\n",
    "from pytorch_lightning.callbacks import ModelCheckpoint\n",
    "import matplotlib.pyplot as plt\n",
    "%config InlineBackend.figure_formats = ['svg']  # we need this for a suitable resolution of the plots"
   ]
  },
  {
   "cell_type": "markdown",
   "metadata": {},
   "source": [
    "As we work on a regression problem now, the use the mean squared error to the true pulse height as optimization objective."
   ]
  },
  {
   "cell_type": "code",
   "execution_count": 2,
   "metadata": {
    "ExecuteTime": {
     "end_time": "2021-07-10T16:52:02.981882Z",
     "start_time": "2021-07-10T16:52:02.977552Z"
    }
   },
   "outputs": [],
   "source": [
    "# some parameters\n",
    "# nmbr_gpus = ... uncommment and put in trainer to use GPUs\n",
    "path_h5 = 'test_data/efficiency_001.h5'\n",
    "type = 'events'\n",
    "keys = ['event', 'true_ph']\n",
    "channel_indices = [[0], [0]]\n",
    "feature_indices = [None, None]\n",
    "feature_keys = ['event_ch0']\n",
    "label_keys = ['true_ph_ch0']\n",
    "norm_vals = {'event_ch0': [0, 1]}\n",
    "down_keys = ['event_ch0']\n",
    "down = 8\n",
    "input_size = 8\n",
    "nmbr_out = 1\n",
    "device_name='cpu'\n",
    "max_epochs = 10\n",
    "save_naming = 'lstm-reg'"
   ]
  },
  {
   "cell_type": "markdown",
   "metadata": {},
   "source": [
    "## Dataset und Model"
   ]
  },
  {
   "cell_type": "markdown",
   "metadata": {},
   "source": [
    "As in the previous notebook we define the data transformations, the DataModule and the LightningModule."
   ]
  },
  {
   "cell_type": "code",
   "execution_count": 3,
   "metadata": {
    "ExecuteTime": {
     "end_time": "2021-07-10T16:52:03.027721Z",
     "start_time": "2021-07-10T16:52:02.984825Z"
    }
   },
   "outputs": [],
   "source": [
    "# create the transforms\n",
    "transforms = transforms.Compose([RemoveOffset(keys=feature_keys),\n",
    "                                 Normalize(norm_vals=norm_vals),\n",
    "                                 DownSample(keys=down_keys, down=down),\n",
    "                                 ToTensor()])\n",
    "\n",
    "# create data module and init the setup\n",
    "dm = CryoDataModule(hdf5_path=path_h5,\n",
    "                    type=type,\n",
    "                    keys=keys,\n",
    "                    channel_indices=channel_indices,\n",
    "                    feature_indices=feature_indices,\n",
    "                    transform=transforms)\n",
    "\n",
    "dm.prepare_data(val_size=0.2,\n",
    "                test_size=0.2,\n",
    "                batch_size=8,\n",
    "                dataset_size=None,\n",
    "                nmbr_workers=0,  # set to number of CPUS on the machine\n",
    "                only_idx=None,\n",
    "                shuffle_dataset=True,\n",
    "                random_seed=42,\n",
    "                feature_keys=feature_keys,\n",
    "                label_keys=label_keys,\n",
    "                keys_one_hot=[])\n",
    "\n",
    "dm.setup()\n",
    "\n",
    "# create lstm clf\n",
    "lstm = LSTMModule(input_size=input_size,\n",
    "                  hidden_size=input_size * 10,\n",
    "                  num_layers=2,\n",
    "                  seq_steps=int(dm.dims[1] / input_size),  # downsampling is already considered in dm\n",
    "                  device_name=device_name,\n",
    "                  nmbr_out=nmbr_out,  # this is the number of labels\n",
    "                  lr=1e-4,\n",
    "                  label_keys=label_keys,\n",
    "                  feature_keys=feature_keys,\n",
    "                  is_classifier=False,\n",
    "                  down=down,\n",
    "                  down_keys=feature_keys,\n",
    "                  norm_vals=norm_vals,\n",
    "                  offset_keys=feature_keys)"
   ]
  },
  {
   "cell_type": "markdown",
   "metadata": {},
   "source": [
    "## Tensorboard"
   ]
  },
  {
   "cell_type": "markdown",
   "metadata": {},
   "source": [
    "We can again start an instance of Tensorboard."
   ]
  },
  {
   "cell_type": "markdown",
   "metadata": {
    "ExecuteTime": {
     "end_time": "2021-02-26T01:39:27.966390Z",
     "start_time": "2021-02-26T01:39:27.960239Z"
    }
   },
   "source": [
    ".. code:: python\n",
    "\n",
    "    %load_ext tensorboard\n",
    "    %tensorboard --logdir=lightning_logs"
   ]
  },
  {
   "cell_type": "markdown",
   "metadata": {},
   "source": [
    ".. note:: \n",
    "\n",
    "    **Tensorboard on Server without X-Forwarding**\n",
    "    If you work on a remote server that has X-forwarding deactivated, i.e. you don't have to option to show graphical elements, you can start the ssh connection with the additional -L flag:\n",
    "\n",
    "        ssh -L 16006:127.0.0.1:6006 <SERVER_SSH_ADRESS>\n",
    "\n",
    "    Then your local machine listens to the standard port of tensorboard on the remote server and you can open the tensorboard interface in a browser on your local machine by typing http://127.0.0.1:16006/ in the address line."
   ]
  },
  {
   "cell_type": "markdown",
   "metadata": {},
   "source": [
    "## Training"
   ]
  },
  {
   "cell_type": "markdown",
   "metadata": {},
   "source": [
    "Thanks to the unified PyTorch Lightning framework, the training works the same way as for a classifier."
   ]
  },
  {
   "cell_type": "code",
   "execution_count": 4,
   "metadata": {
    "ExecuteTime": {
     "end_time": "2021-07-10T16:52:03.039217Z",
     "start_time": "2021-07-10T16:52:03.029892Z"
    }
   },
   "outputs": [
    {
     "name": "stderr",
     "output_type": "stream",
     "text": [
      "GPU available: False, used: False\n",
      "TPU available: False, using: 0 TPU cores\n"
     ]
    }
   ],
   "source": [
    "# create callback to save the best model\n",
    "checkpoint_callback = ModelCheckpoint(dirpath='callbacks',\n",
    "                                      monitor='val_loss',\n",
    "                                      filename=save_naming + '-{epoch:02d}-{val_loss:.2f}')\n",
    "\n",
    "# create instance of Trainer\n",
    "trainer = Trainer(max_epochs=max_epochs,\n",
    "                  callbacks=[checkpoint_callback])\n",
    "# keyword gpus=nmbr_gpus for GPU Usage\n",
    "# keyword max_epochs for number of maximal epochs"
   ]
  },
  {
   "cell_type": "code",
   "execution_count": 5,
   "metadata": {
    "ExecuteTime": {
     "end_time": "2021-07-10T16:52:59.988547Z",
     "start_time": "2021-07-10T16:52:03.041876Z"
    }
   },
   "outputs": [
    {
     "name": "stderr",
     "output_type": "stream",
     "text": [
      "\n",
      "  | Name | Type   | Params\n",
      "--------------------------------\n",
      "0 | lstm | LSTM   | 80 K  \n",
      "1 | fc1  | Linear | 20 K  \n",
      "/Users/felix/.pyenv/versions/3.8.6/lib/python3.8/site-packages/pytorch_lightning/utilities/distributed.py:45: UserWarning: The dataloader, val dataloader 0, does not have many workers which may be a bottleneck. Consider increasing the value of the `num_workers` argument` (try 8 which is the number of cpus on this machine) in the `DataLoader` init to improve performance.\n",
      "  warnings.warn(*args, **kwargs)\n"
     ]
    },
    {
     "data": {
      "application/vnd.jupyter.widget-view+json": {
       "model_id": "",
       "version_major": 2,
       "version_minor": 0
      },
      "text/plain": [
       "HBox(children=(HTML(value='Validation sanity check'), FloatProgress(value=1.0, bar_style='info', layout=Layout…"
      ]
     },
     "metadata": {},
     "output_type": "display_data"
    },
    {
     "name": "stderr",
     "output_type": "stream",
     "text": [
      "/Users/felix/.pyenv/versions/3.8.6/lib/python3.8/site-packages/pytorch_lightning/utilities/distributed.py:45: UserWarning: The dataloader, train dataloader, does not have many workers which may be a bottleneck. Consider increasing the value of the `num_workers` argument` (try 8 which is the number of cpus on this machine) in the `DataLoader` init to improve performance.\n",
      "  warnings.warn(*args, **kwargs)\n"
     ]
    },
    {
     "data": {
      "application/vnd.jupyter.widget-view+json": {
       "model_id": "c01532bdc2c14c1b88e444298f4298e4",
       "version_major": 2,
       "version_minor": 0
      },
      "text/plain": [
       "HBox(children=(HTML(value='Training'), FloatProgress(value=1.0, bar_style='info', layout=Layout(flex='2'), max…"
      ]
     },
     "metadata": {},
     "output_type": "display_data"
    },
    {
     "data": {
      "application/vnd.jupyter.widget-view+json": {
       "model_id": "",
       "version_major": 2,
       "version_minor": 0
      },
      "text/plain": [
       "HBox(children=(HTML(value='Validating'), FloatProgress(value=1.0, bar_style='info', layout=Layout(flex='2'), m…"
      ]
     },
     "metadata": {},
     "output_type": "display_data"
    },
    {
     "name": "stderr",
     "output_type": "stream",
     "text": [
      "/Users/felix/.pyenv/versions/3.8.6/lib/python3.8/site-packages/torch/optim/lr_scheduler.py:216: UserWarning: Please also save or load the state of the optimizer when saving or loading the scheduler.\n",
      "  warnings.warn(SAVE_STATE_WARNING, UserWarning)\n"
     ]
    },
    {
     "data": {
      "application/vnd.jupyter.widget-view+json": {
       "model_id": "",
       "version_major": 2,
       "version_minor": 0
      },
      "text/plain": [
       "HBox(children=(HTML(value='Validating'), FloatProgress(value=1.0, bar_style='info', layout=Layout(flex='2'), m…"
      ]
     },
     "metadata": {},
     "output_type": "display_data"
    },
    {
     "data": {
      "application/vnd.jupyter.widget-view+json": {
       "model_id": "",
       "version_major": 2,
       "version_minor": 0
      },
      "text/plain": [
       "HBox(children=(HTML(value='Validating'), FloatProgress(value=1.0, bar_style='info', layout=Layout(flex='2'), m…"
      ]
     },
     "metadata": {},
     "output_type": "display_data"
    },
    {
     "data": {
      "application/vnd.jupyter.widget-view+json": {
       "model_id": "",
       "version_major": 2,
       "version_minor": 0
      },
      "text/plain": [
       "HBox(children=(HTML(value='Validating'), FloatProgress(value=1.0, bar_style='info', layout=Layout(flex='2'), m…"
      ]
     },
     "metadata": {},
     "output_type": "display_data"
    },
    {
     "data": {
      "application/vnd.jupyter.widget-view+json": {
       "model_id": "",
       "version_major": 2,
       "version_minor": 0
      },
      "text/plain": [
       "HBox(children=(HTML(value='Validating'), FloatProgress(value=1.0, bar_style='info', layout=Layout(flex='2'), m…"
      ]
     },
     "metadata": {},
     "output_type": "display_data"
    },
    {
     "data": {
      "application/vnd.jupyter.widget-view+json": {
       "model_id": "",
       "version_major": 2,
       "version_minor": 0
      },
      "text/plain": [
       "HBox(children=(HTML(value='Validating'), FloatProgress(value=1.0, bar_style='info', layout=Layout(flex='2'), m…"
      ]
     },
     "metadata": {},
     "output_type": "display_data"
    },
    {
     "data": {
      "application/vnd.jupyter.widget-view+json": {
       "model_id": "",
       "version_major": 2,
       "version_minor": 0
      },
      "text/plain": [
       "HBox(children=(HTML(value='Validating'), FloatProgress(value=1.0, bar_style='info', layout=Layout(flex='2'), m…"
      ]
     },
     "metadata": {},
     "output_type": "display_data"
    },
    {
     "data": {
      "application/vnd.jupyter.widget-view+json": {
       "model_id": "",
       "version_major": 2,
       "version_minor": 0
      },
      "text/plain": [
       "HBox(children=(HTML(value='Validating'), FloatProgress(value=1.0, bar_style='info', layout=Layout(flex='2'), m…"
      ]
     },
     "metadata": {},
     "output_type": "display_data"
    },
    {
     "data": {
      "application/vnd.jupyter.widget-view+json": {
       "model_id": "",
       "version_major": 2,
       "version_minor": 0
      },
      "text/plain": [
       "HBox(children=(HTML(value='Validating'), FloatProgress(value=1.0, bar_style='info', layout=Layout(flex='2'), m…"
      ]
     },
     "metadata": {},
     "output_type": "display_data"
    },
    {
     "data": {
      "application/vnd.jupyter.widget-view+json": {
       "model_id": "",
       "version_major": 2,
       "version_minor": 0
      },
      "text/plain": [
       "HBox(children=(HTML(value='Validating'), FloatProgress(value=1.0, bar_style='info', layout=Layout(flex='2'), m…"
      ]
     },
     "metadata": {},
     "output_type": "display_data"
    },
    {
     "name": "stdout",
     "output_type": "stream",
     "text": [
      "\n"
     ]
    },
    {
     "data": {
      "text/plain": [
       "1"
      ]
     },
     "execution_count": 5,
     "metadata": {},
     "output_type": "execute_result"
    }
   ],
   "source": [
    "# all training happens here\n",
    "trainer.fit(model=lstm,\n",
    "            datamodule=dm)"
   ]
  },
  {
   "cell_type": "markdown",
   "metadata": {
    "ExecuteTime": {
     "end_time": "2021-02-25T21:56:32.294873Z",
     "start_time": "2021-02-25T21:56:32.285320Z"
    }
   },
   "source": [
    "## Evaluation"
   ]
  },
  {
   "cell_type": "code",
   "execution_count": 6,
   "metadata": {
    "ExecuteTime": {
     "end_time": "2021-07-10T16:53:00.003614Z",
     "start_time": "2021-07-10T16:52:59.991155Z"
    }
   },
   "outputs": [
    {
     "data": {
      "text/plain": [
       "LSTMModule(\n",
       "  (lstm): LSTM(8, 80, num_layers=2, batch_first=True)\n",
       "  (fc1): Linear(in_features=20480, out_features=1, bias=True)\n",
       ")"
      ]
     },
     "execution_count": 6,
     "metadata": {},
     "output_type": "execute_result"
    }
   ],
   "source": [
    "# load best model\n",
    "lstm.load_from_checkpoint(checkpoint_callback.best_model_path)"
   ]
  },
  {
   "cell_type": "code",
   "execution_count": 7,
   "metadata": {
    "ExecuteTime": {
     "end_time": "2021-07-10T16:53:00.423841Z",
     "start_time": "2021-07-10T16:53:00.008836Z"
    }
   },
   "outputs": [
    {
     "name": "stderr",
     "output_type": "stream",
     "text": [
      "/Users/felix/.pyenv/versions/3.8.6/lib/python3.8/site-packages/pytorch_lightning/utilities/distributed.py:45: UserWarning: The dataloader, test dataloader 0, does not have many workers which may be a bottleneck. Consider increasing the value of the `num_workers` argument` (try 8 which is the number of cpus on this machine) in the `DataLoader` init to improve performance.\n",
      "  warnings.warn(*args, **kwargs)\n"
     ]
    },
    {
     "data": {
      "application/vnd.jupyter.widget-view+json": {
       "model_id": "eea14cf5034d4f2baac51817294f057b",
       "version_major": 2,
       "version_minor": 0
      },
      "text/plain": [
       "HBox(children=(HTML(value='Testing'), FloatProgress(value=1.0, bar_style='info', layout=Layout(flex='2'), max=…"
      ]
     },
     "metadata": {},
     "output_type": "display_data"
    },
    {
     "name": "stdout",
     "output_type": "stream",
     "text": [
      "--------------------------------------------------------------------------------\n",
      "DATALOADER:0 TEST RESULTS\n",
      "{'test_loss': tensor(0.0017),\n",
      " 'train_loss': tensor(0.0030),\n",
      " 'val_loss': tensor(0.0020)}\n",
      "--------------------------------------------------------------------------------\n",
      "\n",
      "[{'train_loss': 0.003030629362910986, 'val_loss': 0.00197098427452147, 'test_loss': 0.0017100092954933643}]\n"
     ]
    }
   ],
   "source": [
    "# run test set\n",
    "result = trainer.test()\n",
    "print(result)"
   ]
  },
  {
   "cell_type": "markdown",
   "metadata": {},
   "source": [
    "For evaluation, we calculate the RMS between our predictions and the true pulse heights on the test set."
   ]
  },
  {
   "cell_type": "code",
   "execution_count": 8,
   "metadata": {
    "ExecuteTime": {
     "end_time": "2021-07-10T16:53:00.679482Z",
     "start_time": "2021-07-10T16:53:00.426894Z"
    }
   },
   "outputs": [
    {
     "name": "stdout",
     "output_type": "stream",
     "text": [
      "RMS OF PREDICTION:  0.3913621050898803\n",
      "Best model:  /Users/felix/PycharmProjects/cait/docs/source/tutorials/callbacks/lstm-reg-epoch=08-val_loss=0.00.ckpt\n",
      "Predictions:  [[0.5190951 ]\n",
      " [0.21318421]\n",
      " [0.5722188 ]\n",
      " [0.868355  ]\n",
      " [0.2756531 ]\n",
      " [0.48385212]\n",
      " [0.63625795]\n",
      " [0.7250182 ]\n",
      " [0.23767623]\n",
      " [0.1014615 ]\n",
      " [0.27463716]\n",
      " [0.30882367]\n",
      " [0.79756474]\n",
      " [0.49813315]\n",
      " [0.29637933]\n",
      " [0.3356294 ]\n",
      " [1.0668943 ]\n",
      " [0.88048095]\n",
      " [0.9578627 ]\n",
      " [0.8911479 ]\n",
      " [0.34058082]\n",
      " [0.20126037]\n",
      " [0.33892164]\n",
      " [0.13703091]\n",
      " [0.28569117]\n",
      " [0.35804522]\n",
      " [0.8819514 ]\n",
      " [0.11296244]\n",
      " [0.6042915 ]\n",
      " [0.6077907 ]\n",
      " [0.7591764 ]\n",
      " [0.8522276 ]\n",
      " [0.5375982 ]\n",
      " [0.12401645]\n",
      " [0.27267727]\n",
      " [0.80078995]\n",
      " [0.23864874]\n",
      " [0.17496601]\n",
      " [0.2327037 ]\n",
      " [0.17392637]\n",
      " [0.2112688 ]\n",
      " [0.27889025]\n",
      " [0.7392883 ]\n",
      " [0.15140365]\n",
      " [0.42190912]\n",
      " [0.44661522]\n",
      " [0.1106218 ]\n",
      " [0.17759526]\n",
      " [0.4016158 ]\n",
      " [0.9523    ]\n",
      " [0.5110052 ]\n",
      " [0.31491077]\n",
      " [0.59735143]\n",
      " [0.22782765]\n",
      " [0.37556702]\n",
      " [0.31949657]\n",
      " [0.1590495 ]\n",
      " [0.58973217]\n",
      " [0.26327324]\n",
      " [0.26482552]\n",
      " [0.17542289]\n",
      " [0.21271276]\n",
      " [0.4088708 ]\n",
      " [0.2576398 ]\n",
      " [0.35049498]\n",
      " [0.13741563]\n",
      " [0.34548762]\n",
      " [0.14705749]\n",
      " [0.39027983]\n",
      " [0.6021813 ]\n",
      " [0.61985874]\n",
      " [0.5223465 ]\n",
      " [0.9593096 ]\n",
      " [0.17346363]\n",
      " [0.21017638]\n",
      " [0.8206003 ]\n",
      " [0.7811061 ]\n",
      " [0.5741181 ]\n",
      " [0.7600825 ]\n",
      " [0.8185749 ]\n",
      " [0.457417  ]\n",
      " [0.1574406 ]\n",
      " [0.15766893]\n",
      " [0.12770347]\n",
      " [0.10976886]\n",
      " [1.072875  ]\n",
      " [0.39373276]\n",
      " [0.6390164 ]\n",
      " [0.6039722 ]\n",
      " [0.9202833 ]\n",
      " [1.0242869 ]\n",
      " [0.14536014]\n",
      " [0.35428348]\n",
      " [0.1805871 ]\n",
      " [0.8126399 ]\n",
      " [0.17252713]\n",
      " [0.71183455]\n",
      " [0.16563846]\n",
      " [0.33092207]\n",
      " [0.6755552 ]]\n"
     ]
    }
   ],
   "source": [
    "# predictions with the model are made that way\n",
    "f = h5py.File(dm.hdf5_path, 'r')\n",
    "test_idx = dm.test_sampler.indices\n",
    "test_idx.sort()\n",
    "x = {feature_keys[0]: f[type][keys[0]][channel_indices[0][0], test_idx]}  # array of shape: (nmbr_events, nmbr_features)\n",
    "y = np.array(f[type][keys[1]][channel_indices[1][0], test_idx])\n",
    "prediction = lstm.predict(x).numpy()\n",
    "\n",
    "# predictions can be saved with instance of EvaluationTools\n",
    "print('RMS OF PREDICTION: ', np.sqrt(np.mean((prediction - y)**2)))\n",
    "print('Best model: ', checkpoint_callback.best_model_path)\n",
    "print('Predictions: ', prediction)"
   ]
  },
  {
   "cell_type": "markdown",
   "metadata": {},
   "source": [
    "At this point, we leave the thorough evaluation of the pulse height regression method as an exercise to the reader ;-)"
   ]
  },
  {
   "cell_type": "markdown",
   "metadata": {},
   "source": [
    "Please forward questions and correspondence about this notebook to felix.wagner(at)oeaw.ac.at."
   ]
  }
 ],
 "metadata": {
  "kernelspec": {
   "display_name": "Python 3",
   "language": "python",
   "name": "python3"
  },
  "language_info": {
   "codemirror_mode": {
    "name": "ipython",
    "version": 3
   },
   "file_extension": ".py",
   "mimetype": "text/x-python",
   "name": "python",
   "nbconvert_exporter": "python",
   "pygments_lexer": "ipython3",
   "version": "3.8.6"
  },
  "varInspector": {
   "cols": {
    "lenName": 16,
    "lenType": 16,
    "lenVar": 40
   },
   "kernels_config": {
    "python": {
     "delete_cmd_postfix": "",
     "delete_cmd_prefix": "del ",
     "library": "var_list.py",
     "varRefreshCmd": "print(var_dic_list())"
    },
    "r": {
     "delete_cmd_postfix": ") ",
     "delete_cmd_prefix": "rm(",
     "library": "var_list.r",
     "varRefreshCmd": "cat(var_dic_list()) "
    }
   },
   "types_to_exclude": [
    "module",
    "function",
    "builtin_function_or_method",
    "instance",
    "_Feature"
   ],
   "window_display": false
  }
 },
 "nbformat": 4,
 "nbformat_minor": 4
}
